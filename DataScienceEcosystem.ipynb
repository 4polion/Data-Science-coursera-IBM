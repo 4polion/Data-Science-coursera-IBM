{
  "nbformat": 4,
  "nbformat_minor": 0,
  "metadata": {
    "colab": {
      "provenance": []
    },
    "kernelspec": {
      "name": "python3",
      "display_name": "Python 3"
    },
    "language_info": {
      "name": "python"
    }
  },
  "cells": [
    {
      "cell_type": "markdown",
      "source": [
        "# Data Science Tools and Ecosystem"
      ],
      "metadata": {
        "id": "eTQ8flLGiPjE"
      }
    },
    {
      "cell_type": "markdown",
      "source": [
        "In this notebook, Data Science Tools and Ecosystem are summarized./ En este notebook se resume las herramientas y el ecosistema de la ciencia de datos.\n"
      ],
      "metadata": {
        "id": "sVfg-nlSiPoC"
      }
    },
    {
      "cell_type": "markdown",
      "source": [
        "**Objectives:**\n",
        "\n",
        "* List popular languages for Data Science.\n",
        "* List commonly used libraries used by Data Scientists.\n",
        "* Comment on Data Science tools.\n",
        "* Evaluate arithmetic expressions in Python."
      ],
      "metadata": {
        "id": "VvEnjF9OjqLd"
      }
    },
    {
      "cell_type": "markdown",
      "source": [
        "Most popular languages for Data Scientist:/Lenguajes mas populares para cientificos de dato:\n",
        "1.- Python\n",
        "2.- R\n",
        "3.- SQL"
      ],
      "metadata": {
        "id": "DtuAnpkAiPxB"
      }
    },
    {
      "cell_type": "markdown",
      "source": [
        "Most common libraries used by Data Scientists/ Librearias más usadas entre cientificos de datos:\n",
        "1.- Pandas\n",
        "2.- NumPy\n",
        "3.- Scikit-Learn"
      ],
      "metadata": {
        "id": "Mo0WKpM8iP1o"
      }
    },
    {
      "cell_type": "markdown",
      "source": [
        "# Data Science Tools\n",
        "\n",
        "| Data Science Tools |\n",
        "| :---------------- |\n",
        "| Jupyter Notebook   |\n",
        "| RStudio           |\n",
        "| VS Code           |"
      ],
      "metadata": {
        "id": "yJzWmSrNhd7r"
      }
    },
    {
      "cell_type": "markdown",
      "source": [
        "### Below are a few examples of evaluating arithmetic expressions in Python"
      ],
      "metadata": {
        "id": "UdPFE8egh_iw"
      }
    },
    {
      "source": [
        "#This a simple arithmetic expression to mutiply then add integers\n",
        "print((3*4)+5)"
      ],
      "cell_type": "code",
      "metadata": {
        "colab": {
          "base_uri": "https://localhost:8080/"
        },
        "id": "MBfvY1LeiCqw",
        "outputId": "dbdeb14a-ce90-4bb3-b7d6-ce9a12ebb632"
      },
      "execution_count": 3,
      "outputs": [
        {
          "output_type": "stream",
          "name": "stdout",
          "text": [
            "17\n"
          ]
        }
      ]
    },
    {
      "cell_type": "code",
      "source": [
        "#This will convert 200 minutes to hours by diving by 60\n",
        "print(200/60)"
      ],
      "metadata": {
        "colab": {
          "base_uri": "https://localhost:8080/"
        },
        "id": "c2292T6Ii2ZR",
        "outputId": "c086239c-6257-4b6b-8d7c-9e7cefba19aa"
      },
      "execution_count": 5,
      "outputs": [
        {
          "output_type": "stream",
          "name": "stdout",
          "text": [
            "3.3333333333333335\n"
          ]
        }
      ]
    },
    {
      "cell_type": "markdown",
      "source": [
        "## Author\n",
        "Marco Morales"
      ],
      "metadata": {
        "id": "A9koeaaCkQ4d"
      }
    }
  ]
}